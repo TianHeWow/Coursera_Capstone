{
 "cells": [
  {
   "cell_type": "markdown",
   "metadata": {},
   "source": [
    "# Find out the best neighborhood  to open a Chinese restaurant in Toronto\n"
   ]
  },
  {
   "cell_type": "markdown",
   "metadata": {},
   "source": [
    "### Introduction\n",
    "One of my friends and her husband live in Toronto. They want to do some investments. They prefer to start some small business, because they don't have much spare money.They all love food and have good cooking skills for Chinese foods.It seems like that opening a Chinese restaurant is a good idea for them.The purpose of my job is to find out a place which is most suitable for opeing a Chinese restaurant."
   ]
  },
  {
   "cell_type": "markdown",
   "metadata": {},
   "source": [
    "### Data Collection\n",
    "Geographic Information for neighborhoods in Toronto comes from website. I decide to scrape data from Wikipedia page  \n",
    "Venues information comes from Foursquare.The required data is as follows:  \n",
    "\n",
    "    1. Chinese restaurants information in each neighborhood  \n",
    "    2. Total restaurants information in each neighborhood  \n",
    "    3. Information about all venues in each neighborhood"
   ]
  },
  {
   "cell_type": "code",
   "execution_count": null,
   "metadata": {},
   "outputs": [],
   "source": []
  },
  {
   "cell_type": "code",
   "execution_count": null,
   "metadata": {},
   "outputs": [],
   "source": []
  }
 ],
 "metadata": {
  "kernelspec": {
   "display_name": "Python 3",
   "language": "python",
   "name": "python3"
  },
  "language_info": {
   "codemirror_mode": {
    "name": "ipython",
    "version": 3
   },
   "file_extension": ".py",
   "mimetype": "text/x-python",
   "name": "python",
   "nbconvert_exporter": "python",
   "pygments_lexer": "ipython3",
   "version": "3.6.5"
  }
 },
 "nbformat": 4,
 "nbformat_minor": 2
}
